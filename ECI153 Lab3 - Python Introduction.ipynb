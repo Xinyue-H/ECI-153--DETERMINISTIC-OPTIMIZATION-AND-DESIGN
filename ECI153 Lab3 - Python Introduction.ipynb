{
 "cells": [
  {
   "cell_type": "markdown",
   "metadata": {},
   "source": [
    "# ECI 153 Lab3 Python Introduction"
   ]
  },
  {
   "cell_type": "markdown",
   "metadata": {},
   "source": [
    "## Python Download"
   ]
  },
  {
   "cell_type": "markdown",
   "metadata": {},
   "source": [
    "### 1. Downloading and Installing Anaconda\n",
    "\n",
    "(Skip this step if you know how to use Jupyter notebook and install packages)\n",
    "\n",
    "Anaconda is a popular distribution of Python that includes many additional libraries and tools, making it ideal for scientific computing, data science, and machine learning.\n",
    "\n",
    "Steps:\n",
    "1. Go to the Anaconda Website: Go to the Anaconda download page at Anaconda's official site https://www.anaconda.com/download/success \n",
    "2. Download the Installer: Select the installer that matches your operating system (Windows, macOS, or Linux). \n",
    "3. Install Anaconda: Run the downloaded installer."
   ]
  },
  {
   "cell_type": "markdown",
   "metadata": {},
   "source": [
    "### 2. Using Jupyter Notebook\n",
    "Jupyter Notebook is an open-source web application that allows you to create and share documents that contain live code, equations, visualizations, and narrative text. (This page is written in jupyter notebook)\n",
    "\n",
    "\n",
    "To launch Jupyter Notebook: From **Anaconda Navigator**, launch **Jupyter Notebook**. This will open Jupyter in your default web browser.\n",
    "Create a New Notebook: In the Jupyter Notebook interface, click on “New” at the top right corner, and then select “Python 3” to start a new notebook.\n",
    "\n",
    "We can write equations using latex: \n",
    "$$\n",
    "\\min z= \\sum_{i=1}^N c_i x_i \n",
    "$$\n",
    "\n"
   ]
  },
  {
   "cell_type": "markdown",
   "metadata": {},
   "source": [
    "You can enter Python code in the cells. To execute the code in a cell, press **Shift + Enter**.\n",
    "Adding More Cells: You can add more cells by clicking on the “+” button on the toolbar or using the insert menu."
   ]
  },
  {
   "cell_type": "markdown",
   "metadata": {},
   "source": [
    "In Python, `#` is used to comment a line of code. What follows after `#` will not be evaluated."
   ]
  },
  {
   "cell_type": "code",
   "execution_count": 2,
   "metadata": {},
   "outputs": [],
   "source": [
    "# assign value 1 to variable a\n",
    "a = 1\n",
    "# assign the value of (a+1) to variable a\n",
    "a = a+1"
   ]
  },
  {
   "cell_type": "code",
   "execution_count": 3,
   "metadata": {},
   "outputs": [
    {
     "name": "stdout",
     "output_type": "stream",
     "text": [
      "2\n"
     ]
    }
   ],
   "source": [
    "print(a)"
   ]
  },
  {
   "cell_type": "code",
   "execution_count": null,
   "metadata": {},
   "outputs": [],
   "source": [
    "# It is possible that you do not execute the cell\n",
    "# In this case, there will no output\n",
    "a = 10\n",
    "print(a)"
   ]
  },
  {
   "cell_type": "code",
   "execution_count": 4,
   "metadata": {},
   "outputs": [
    {
     "name": "stdout",
     "output_type": "stream",
     "text": [
      "2\n"
     ]
    }
   ],
   "source": [
    "# a is still 2, since the above cell was not executed \n",
    "print(a)"
   ]
  },
  {
   "cell_type": "markdown",
   "metadata": {},
   "source": [
    "Executed cells have a number in the `[]`. It records the **order** to run the cells. The order matters!\n"
   ]
  },
  {
   "cell_type": "markdown",
   "metadata": {},
   "source": [
    "### 3. Python 101"
   ]
  },
  {
   "cell_type": "code",
   "execution_count": 11,
   "metadata": {},
   "outputs": [
    {
     "name": "stdout",
     "output_type": "stream",
     "text": [
      "ECI 153 2024\n",
      "[1, 2, 3, 4]\n",
      "[1, 2, 3, 4, 5]\n",
      "[[1, 2], [3, 4]]\n"
     ]
    }
   ],
   "source": [
    "# assignment \n",
    "# syntax: Var = value\n",
    "\n",
    "# data types\n",
    "\n",
    "# numeric\n",
    "a = 2024\n",
    "\n",
    "# string \n",
    "string = \"ECI 153\"\n",
    "print(string, a)\n",
    "\n",
    "# complicated data types\n",
    "# list\n",
    "# list can be defined in two ways, using list(), or simply []\n",
    "list1 = list([1, 2, 3, 4])\n",
    "print(list1)\n",
    "\n",
    "# add one element to the list\n",
    "list1.append(5)  \n",
    "print(list1)\n",
    "\n",
    "# list of lists\n",
    "# define list using []\n",
    "list2 = [[1, 2], [3, 4]]\n",
    "print(list2)"
   ]
  },
  {
   "cell_type": "markdown",
   "metadata": {},
   "source": [
    "In python, **the index starts from 0**. The first element of a list is `list1[0]`."
   ]
  },
  {
   "cell_type": "code",
   "execution_count": 20,
   "metadata": {},
   "outputs": [
    {
     "data": {
      "text/plain": [
       "1"
      ]
     },
     "execution_count": 20,
     "metadata": {},
     "output_type": "execute_result"
    }
   ],
   "source": [
    "list1[0]"
   ]
  },
  {
   "cell_type": "code",
   "execution_count": 23,
   "metadata": {},
   "outputs": [
    {
     "data": {
      "text/plain": [
       "5"
      ]
     },
     "execution_count": 23,
     "metadata": {},
     "output_type": "execute_result"
    }
   ],
   "source": [
    "# the 5th element is indexed 3!!\n",
    "list1[4]"
   ]
  },
  {
   "cell_type": "code",
   "execution_count": 24,
   "metadata": {},
   "outputs": [
    {
     "ename": "IndexError",
     "evalue": "list index out of range",
     "output_type": "error",
     "traceback": [
      "\u001b[1;31m---------------------------------------------------------------------------\u001b[0m",
      "\u001b[1;31mIndexError\u001b[0m                                Traceback (most recent call last)",
      "\u001b[1;32m<ipython-input-24-e8481a718c7b>\u001b[0m in \u001b[0;36m<module>\u001b[1;34m\u001b[0m\n\u001b[0;32m      1\u001b[0m \u001b[1;31m# a length-5 list can only have index 0,1,2,3,4\u001b[0m\u001b[1;33m\u001b[0m\u001b[1;33m\u001b[0m\u001b[1;33m\u001b[0m\u001b[0m\n\u001b[1;32m----> 2\u001b[1;33m \u001b[0mlist1\u001b[0m\u001b[1;33m[\u001b[0m\u001b[1;36m5\u001b[0m\u001b[1;33m]\u001b[0m\u001b[1;33m\u001b[0m\u001b[1;33m\u001b[0m\u001b[0m\n\u001b[0m",
      "\u001b[1;31mIndexError\u001b[0m: list index out of range"
     ]
    }
   ],
   "source": [
    "# a length-5 list can only have index 0,1,2,3,4\n",
    "# it will give you an error if the index is out the range\n",
    "list1[5]"
   ]
  },
  {
   "cell_type": "markdown",
   "metadata": {},
   "source": [
    "There are many in-built functions in Python. "
   ]
  },
  {
   "cell_type": "code",
   "execution_count": 14,
   "metadata": {},
   "outputs": [
    {
     "data": {
      "text/plain": [
       "1"
      ]
     },
     "execution_count": 14,
     "metadata": {},
     "output_type": "execute_result"
    }
   ],
   "source": [
    " # minimum value from a list\n",
    "min(list1)"
   ]
  },
  {
   "cell_type": "code",
   "execution_count": 25,
   "metadata": {},
   "outputs": [
    {
     "data": {
      "text/plain": [
       "15"
      ]
     },
     "execution_count": 25,
     "metadata": {},
     "output_type": "execute_result"
    }
   ],
   "source": [
    "sum(list1)"
   ]
  },
  {
   "cell_type": "markdown",
   "metadata": {},
   "source": [
    "#### If statement\n",
    "In Python, the `if` statement is used for conditional execution. It allows you to execute a block of code only if a certain condition is true. Here's the basic syntax:\n"
   ]
  },
  {
   "cell_type": "code",
   "execution_count": 30,
   "metadata": {},
   "outputs": [
    {
     "name": "stdout",
     "output_type": "stream",
     "text": [
      "5 is greater than 4\n",
      "this line will also be executed\n"
     ]
    }
   ],
   "source": [
    "if 5>4: \n",
    "    print(\"5 is greater than 4\")\n",
    "    print(\"this line will also be executed\")"
   ]
  },
  {
   "cell_type": "code",
   "execution_count": 32,
   "metadata": {},
   "outputs": [
    {
     "name": "stdout",
     "output_type": "stream",
     "text": [
      "3 is less than 4\n",
      "IF statement is false\n"
     ]
    }
   ],
   "source": [
    "if 3>4: \n",
    "    print(\"3 is greater than 4\")\n",
    "    print(\"IF statement is true\")\n",
    "else: \n",
    "    print(\"3 is less than 4\")\n",
    "    print(\"IF statement is false\")\n"
   ]
  },
  {
   "cell_type": "markdown",
   "metadata": {},
   "source": [
    "\n",
    "\n",
    "Unlike many other programming languages that use braces `{}` or keywords like `begin` and `end` to denote blocks of code, Python uses indentation (press TAB) to indicate the beginning and end of code blocks."
   ]
  },
  {
   "cell_type": "markdown",
   "metadata": {},
   "source": [
    "#### Loops\n",
    "\n"
   ]
  },
  {
   "cell_type": "code",
   "execution_count": 28,
   "metadata": {},
   "outputs": [
    {
     "name": "stdout",
     "output_type": "stream",
     "text": [
      "0\n",
      "1\n",
      "2\n",
      "3\n",
      "4\n"
     ]
    }
   ],
   "source": [
    "# range generate a sequence of number (it does not contain 5)\n",
    "for i in range(5):\n",
    "    print(i)"
   ]
  },
  {
   "cell_type": "code",
   "execution_count": 34,
   "metadata": {},
   "outputs": [
    {
     "name": "stdout",
     "output_type": "stream",
     "text": [
      "0\n",
      "1\n",
      "2\n",
      "3\n",
      "4\n"
     ]
    }
   ],
   "source": [
    "i = 0\n",
    "while i < 5:\n",
    "    print(i)\n",
    "    i = i + 1"
   ]
  },
  {
   "cell_type": "markdown",
   "metadata": {},
   "source": [
    "#### User-defined functions"
   ]
  },
  {
   "cell_type": "code",
   "execution_count": 36,
   "metadata": {},
   "outputs": [],
   "source": [
    "def get_the_min_max(l):\n",
    "    return min(l), max(l)\n",
    "\n",
    "l = [4, 10, 3, -1, 22]\n",
    "l_min, l_max = get_the_min_max(l)"
   ]
  },
  {
   "cell_type": "code",
   "execution_count": 38,
   "metadata": {},
   "outputs": [
    {
     "data": {
      "text/plain": [
       "(-1, 22)"
      ]
     },
     "execution_count": 38,
     "metadata": {},
     "output_type": "execute_result"
    }
   ],
   "source": [
    "l_min, l_max"
   ]
  },
  {
   "cell_type": "markdown",
   "metadata": {},
   "source": [
    "### 4. Import Packages\n",
    "\n",
    "Like any open-source languages, Python supoort many packages (libraries of code). You can use the code by importing the module. \n",
    "\n",
    "1. Importing a module from a package\n",
    "`import package_name.module_name`\n",
    "\n",
    "1. Importing a module from a package with an alias\n",
    "`import package_name.module_name as alias`\n",
    "\n",
    "There are packages that is downloaded already, like `numpy`. However, there are also packages that are not by default downloaded, and installation is needed before you can access those."
   ]
  },
  {
   "cell_type": "code",
   "execution_count": 1,
   "metadata": {},
   "outputs": [],
   "source": [
    "# this is a library that we can directly import\n",
    "# NumPy is a fundamental package for scientific computing in Python. I\n",
    "import numpy "
   ]
  },
  {
   "cell_type": "code",
   "execution_count": 3,
   "metadata": {},
   "outputs": [
    {
     "name": "stdout",
     "output_type": "stream",
     "text": [
      "[1 0 0 0]\n"
     ]
    }
   ],
   "source": [
    "# numpy.array() is a function that create \n",
    "array_a = numpy.array([1, 0, 0, 0])\n",
    "print(array_a)"
   ]
  },
  {
   "cell_type": "code",
   "execution_count": 4,
   "metadata": {},
   "outputs": [
    {
     "name": "stdout",
     "output_type": "stream",
     "text": [
      "[1 0 0 0]\n"
     ]
    }
   ],
   "source": [
    "# we often want alias to make the code easy to read\n",
    "import numpy as np\n",
    "print(np.array([1, 0, 0, 0]))"
   ]
  },
  {
   "cell_type": "code",
   "execution_count": 55,
   "metadata": {},
   "outputs": [
    {
     "data": {
      "text/plain": [
       "1"
      ]
     },
     "execution_count": 55,
     "metadata": {},
     "output_type": "execute_result"
    }
   ],
   "source": [
    "# the index of numpy array starts from 0 too\n",
    "array_a[0]"
   ]
  },
  {
   "cell_type": "code",
   "execution_count": 6,
   "metadata": {},
   "outputs": [
    {
     "data": {
      "text/plain": [
       "array([11, 10, 10, 10])"
      ]
     },
     "execution_count": 6,
     "metadata": {},
     "output_type": "execute_result"
    }
   ],
   "source": [
    "# elementwise addition\n",
    "array_a + 10 "
   ]
  },
  {
   "cell_type": "code",
   "execution_count": 60,
   "metadata": {},
   "outputs": [
    {
     "data": {
      "text/plain": [
       "array([10,  5])"
      ]
     },
     "execution_count": 60,
     "metadata": {},
     "output_type": "execute_result"
    }
   ],
   "source": [
    "# numpy array is the python way to define matrices and vectors\n",
    "\n",
    "A = np.array([[1, 0], [0, 1]])\n",
    "B = np.array([[1, 1], [1, 1]])\n",
    "x = np.array([10, 5])\n",
    "\n",
    "# Perform matrix multiplication using the @ operator or np.dot()\n",
    "Ax = A @ x  # Alternatively, you can use np.dot(A, B)\n",
    "Ax"
   ]
  },
  {
   "cell_type": "code",
   "execution_count": 61,
   "metadata": {},
   "outputs": [
    {
     "data": {
      "text/plain": [
       "array([15, 15])"
      ]
     },
     "execution_count": 61,
     "metadata": {},
     "output_type": "execute_result"
    }
   ],
   "source": [
    "Bx = B @ x\n",
    "Bx"
   ]
  },
  {
   "cell_type": "code",
   "execution_count": 62,
   "metadata": {},
   "outputs": [
    {
     "data": {
      "text/plain": [
       "array([1, 0])"
      ]
     },
     "execution_count": 62,
     "metadata": {},
     "output_type": "execute_result"
    }
   ],
   "source": [
    "# also, the index of 2D numpy array starts from 0\n",
    "# the following gives the first row of the matrix\n",
    "A[0]"
   ]
  },
  {
   "cell_type": "code",
   "execution_count": 63,
   "metadata": {},
   "outputs": [
    {
     "data": {
      "text/plain": [
       "1"
      ]
     },
     "execution_count": 63,
     "metadata": {},
     "output_type": "execute_result"
    }
   ],
   "source": [
    "# to get the first element (1-st row, 1-st column)\n",
    "A[0, 0]"
   ]
  },
  {
   "cell_type": "markdown",
   "metadata": {},
   "source": [
    "#### 4. Package that Solves Linear Programming"
   ]
  },
  {
   "cell_type": "markdown",
   "metadata": {},
   "source": [
    "There are many python packages that can solve LPs. Today, we will only learn to use the in-built package `SciPy`. "
   ]
  },
  {
   "cell_type": "markdown",
   "metadata": {},
   "source": [
    "Consider the problem \n",
    "$$ \\max x_1+2x_2 $$\n",
    "$$  x_1+3x_2 \\leq 8$$\n",
    "$$  x_1+x_2 \\leq 4$$\n",
    "$$  x_1,x_2 \\geq 0$$\n",
    "\n",
    "Equivalently (objective function changed to **minimize** because scipy deals with minimization problem): \n",
    "$$ \\min -x_1-2x_2 $$\n",
    "$$  x_1+3x_2+s_1 = 8$$\n",
    "$$  x_1+x_2 +s_2 =4$$\n",
    "$$  x_1,x_2,s_1,s_2 \\geq 0$$\n",
    "\n",
    "When reporting final objective value, remember to report the negative of it.\n"
   ]
  },
  {
   "cell_type": "code",
   "execution_count": 52,
   "metadata": {},
   "outputs": [
    {
     "name": "stdout",
     "output_type": "stream",
     "text": [
      "Optimal values: [2.00000000e+00 2.00000000e+00 4.45649626e-11 3.55752376e-13]\n",
      "Optimal cost: 5.999999999955222\n"
     ]
    }
   ],
   "source": [
    "from scipy.optimize import linprog\n",
    "\n",
    "# Objective function coefficients\n",
    "c = [-1, -2, 0, 0]  # Maximize z = x + 2y  = Minimize -x-2y\n",
    "\n",
    "# Coefficients of inequality constraints (left-hand side of inequalities)\n",
    "A = [[1, 3, 1, 0], [1, 1, 0, 1]]  # x1 + 3x2 + s1 = 8, x1 + x2 + s4 = 4\n",
    "\n",
    "# Right-hand side of inequality constraints\n",
    "b = [8, 4]\n",
    "\n",
    "# Solve linear programming problem\n",
    "res = linprog(c, A_eq=A, b_eq=b)\n",
    "\n",
    "print(\"Optimal values:\", res.x)\n",
    "print(\"Optimal cost:\", -res.fun) # Note the negative sign to get the maximized value"
   ]
  },
  {
   "cell_type": "code",
   "execution_count": 53,
   "metadata": {},
   "outputs": [
    {
     "name": "stdout",
     "output_type": "stream",
     "text": [
      "Optimal values: [2. 2. 0. 0.]\n",
      "Optimal cost: 6.0\n"
     ]
    }
   ],
   "source": [
    "# use function round() to round the floating point number to 2 digits after the decimal point\n",
    "print(\"Optimal values:\", res.x.round(2))\n",
    "print(\"Optimal cost:\", -res.fun.round(2))"
   ]
  },
  {
   "cell_type": "code",
   "execution_count": null,
   "metadata": {},
   "outputs": [],
   "source": []
  }
 ],
 "metadata": {
  "kernelspec": {
   "display_name": "Python 3",
   "language": "python",
   "name": "python3"
  },
  "language_info": {
   "codemirror_mode": {
    "name": "ipython",
    "version": 3
   },
   "file_extension": ".py",
   "mimetype": "text/x-python",
   "name": "python",
   "nbconvert_exporter": "python",
   "pygments_lexer": "ipython3",
   "version": "3.7.4"
  }
 },
 "nbformat": 4,
 "nbformat_minor": 5
}
